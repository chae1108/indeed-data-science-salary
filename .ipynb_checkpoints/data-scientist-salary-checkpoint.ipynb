{
 "cells": [
  {
   "cell_type": "markdown",
   "metadata": {
    "focus": false,
    "id": "69b9a648-bcc7-490d-9f9b-ea244d156bd6"
   },
   "source": [
    "# Web Scraping for Indeed.com & Predicting Salaries"
   ]
  },
  {
   "cell_type": "markdown",
   "metadata": {
    "focus": false,
    "id": "34681254-c802-462f-829d-8894d0772d08"
   },
   "source": [
    "Indeed.com is a leading job search website, allowing job-seekers to apply either on Indeed's site or on company websites.\n",
    "\n",
    "The goal of this project was to scrape data from Indeed and use the data to determine what are the indicators of determing data scientists' salary.  Salary information on data science jobs were collected in various cities.  Then, factors such as location, title, and keywords on job descriptions were analyzed.  In order to account for a natural variance in job salaries, the prolem was turned into a classification problem predicting the range of salary."
   ]
  },
  {
   "cell_type": "markdown",
   "metadata": {
    "focus": false,
    "id": "a948d79c-5527-4c0d-ab23-f5d43ce72056"
   },
   "source": [
    "### Webscraping\n",
    "BeautifulSoup was used to build a webscraper. URLs are adjusted to access data for different cities."
   ]
  },
  {
   "cell_type": "code",
   "execution_count": 50,
   "metadata": {
    "collapsed": false,
    "focus": false,
    "id": "2efefc73-064a-482d-b3b5-ddf5508cb4ec"
   },
   "outputs": [],
   "source": [
    "import requests\n",
    "import re\n",
    "import bs4\n",
    "from bs4 import BeautifulSoup\n",
    "import numpy as np\n",
    "import pandas as pd\n",
    "from sklearn.cross_validation import KFold, StratifiedKFold, cross_val_score\n",
    "from sklearn.ensemble import RandomForestClassifier, RandomForestRegressor\n",
    "import matplotlib.pyplot as plt\n",
    "%matplotlib inline\n",
    "from sklearn.metrics import confusion_matrix, classification_report\n",
    "from sklearn import svm\n",
    "from sklearn.neighbors import KNeighborsClassifier\n",
    "from sklearn.linear_model import LogisticRegression\n",
    "from sklearn.grid_search import GridSearchCV\n",
    "import seaborn as sns"
   ]
  },
  {
   "cell_type": "code",
   "execution_count": 5,
   "metadata": {
    "collapsed": true,
    "focus": false,
    "id": "a1af53c9-9090-494f-b82e-cadb60a54909"
   },
   "outputs": [],
   "source": [
    "# functions to extract company name, job title, and salary\n",
    "def extract_text(el):\n",
    "    if el:\n",
    "        return el.text.strip()\n",
    "    else:\n",
    "        return ''\n",
    "def extract_company_from_result(result):\n",
    "    return extract_text(result.find('span',{'class':'company'}))\n",
    "def extract_job_from_result(result):\n",
    "    return result.find('a',{'data-tn-element':'jobTitle'}).text.strip()\n",
    "def extract_salary_from_result(result):\n",
    "    salary_table = result.find('td', {'class' : 'snip'})\n",
    "    if salary_table:\n",
    "        snip = salary_table.find('nobr')\n",
    "        if snip:\n",
    "            return snip.text.strip()\n",
    "    return None"
   ]
  },
  {
   "cell_type": "code",
   "execution_count": 6,
   "metadata": {
    "collapsed": false,
    "focus": false,
    "id": "04b0f9af-540e-402f-8292-81748707c676"
   },
   "outputs": [],
   "source": [
    "# the first {} is for the location and the second [] is for the page number for the job search\n",
    "url_template = \"http://www.indeed.com/jobs?q=data+scientist+%2420%2C000&l={}&start={}\"\n",
    "max_results_per_city = 100 # set max results to 100 for faster scraping\n",
    "\n",
    "rows = []\n",
    "\n",
    "for city in set(['New+York', 'Chicago', 'San+Francisco', 'Austin', 'Seattle', \n",
    "    'Los+Angeles', 'Philadelphia', 'Atlanta', 'Dallas', 'Pittsburgh', \n",
    "    'Portland', 'Phoenix', 'Denver', 'Houston', 'Miami', 'Washington%2C+DC']):\n",
    "    for start in range(0, max_results_per_city, 10):\n",
    "        r = requests.get(url_template.format(city, start))\n",
    "        soup = BeautifulSoup(r.content)\n",
    "        results = soup.findAll('div', { \"class\" : \"result\" })\n",
    "        for result in results:\n",
    "            if result:\n",
    "                row={}\n",
    "                # use functions created above to obtain result\n",
    "                row['job_title']=extract_job_from_result(result)\n",
    "                row['company']=extract_company_from_result(result)\n",
    "                row['salary']=extract_salary_from_result(result)\n",
    "                row['city'] = city\n",
    "                # append all results\n",
    "                rows.append(row)"
   ]
  },
  {
   "cell_type": "code",
   "execution_count": 9,
   "metadata": {
    "collapsed": false
   },
   "outputs": [
    {
     "data": {
      "text/html": [
       "<div>\n",
       "<table border=\"1\" class=\"dataframe\">\n",
       "  <thead>\n",
       "    <tr style=\"text-align: right;\">\n",
       "      <th></th>\n",
       "      <th>city</th>\n",
       "      <th>company</th>\n",
       "      <th>job_title</th>\n",
       "      <th>salary</th>\n",
       "    </tr>\n",
       "  </thead>\n",
       "  <tbody>\n",
       "    <tr>\n",
       "      <th>0</th>\n",
       "      <td>Houston</td>\n",
       "      <td>CyberCoders</td>\n",
       "      <td>Data Scientist - Analytics Consultant - Oil &amp; ...</td>\n",
       "      <td>None</td>\n",
       "    </tr>\n",
       "    <tr>\n",
       "      <th>1</th>\n",
       "      <td>Houston</td>\n",
       "      <td>Arundo Analytics</td>\n",
       "      <td>Machine Learning Expert</td>\n",
       "      <td>None</td>\n",
       "    </tr>\n",
       "    <tr>\n",
       "      <th>2</th>\n",
       "      <td>Houston</td>\n",
       "      <td>Philips Lighting</td>\n",
       "      <td>Data Scientist / Machine Learning Scientist</td>\n",
       "      <td>None</td>\n",
       "    </tr>\n",
       "    <tr>\n",
       "      <th>3</th>\n",
       "      <td>Houston</td>\n",
       "      <td>The Hanover Company</td>\n",
       "      <td>Quantitative Analyst</td>\n",
       "      <td>None</td>\n",
       "    </tr>\n",
       "    <tr>\n",
       "      <th>4</th>\n",
       "      <td>Houston</td>\n",
       "      <td>Houston Methodist</td>\n",
       "      <td>Scientist</td>\n",
       "      <td>None</td>\n",
       "    </tr>\n",
       "  </tbody>\n",
       "</table>\n",
       "</div>"
      ],
      "text/plain": [
       "      city              company  \\\n",
       "0  Houston          CyberCoders   \n",
       "1  Houston     Arundo Analytics   \n",
       "2  Houston     Philips Lighting   \n",
       "3  Houston  The Hanover Company   \n",
       "4  Houston    Houston Methodist   \n",
       "\n",
       "                                           job_title salary  \n",
       "0  Data Scientist - Analytics Consultant - Oil & ...   None  \n",
       "1                            Machine Learning Expert   None  \n",
       "2        Data Scientist / Machine Learning Scientist   None  \n",
       "3                               Quantitative Analyst   None  \n",
       "4                                          Scientist   None  "
      ]
     },
     "execution_count": 9,
     "metadata": {},
     "output_type": "execute_result"
    }
   ],
   "source": [
    "# converted results into a dataframe\n",
    "data = pd.DataFrame.from_records(rows)\n",
    "data.head()"
   ]
  },
  {
   "cell_type": "code",
   "execution_count": 10,
   "metadata": {
    "collapsed": false
   },
   "outputs": [
    {
     "data": {
      "text/plain": [
       "(2400, 4)"
      ]
     },
     "execution_count": 10,
     "metadata": {},
     "output_type": "execute_result"
    }
   ],
   "source": [
    "data.shape"
   ]
  },
  {
   "cell_type": "code",
   "execution_count": 11,
   "metadata": {
    "collapsed": false
   },
   "outputs": [
    {
     "data": {
      "text/plain": [
       "city            0\n",
       "company         0\n",
       "job_title       0\n",
       "salary       2252\n",
       "dtype: int64"
      ]
     },
     "execution_count": 11,
     "metadata": {},
     "output_type": "execute_result"
    }
   ],
   "source": [
    "# look for null values in salary\n",
    "data.isnull().sum()"
   ]
  },
  {
   "cell_type": "code",
   "execution_count": 12,
   "metadata": {
    "collapsed": false
   },
   "outputs": [],
   "source": [
    "# remove duplicate rows\n",
    "data=data.drop_duplicates()"
   ]
  },
  {
   "cell_type": "code",
   "execution_count": 13,
   "metadata": {
    "collapsed": false
   },
   "outputs": [],
   "source": [
    "# create a new dataframe without null values\n",
    "salary_data = data[data.salary.notnull()]"
   ]
  },
  {
   "cell_type": "code",
   "execution_count": 16,
   "metadata": {
    "collapsed": true
   },
   "outputs": [],
   "source": [
    "# remove non-annual salary \n",
    "salary_data = salary_data[~(salary_data.salary.astype('str').str.contains('hr'))]\n",
    "salary_data = salary_data[~(salary_data.salary.astype('str').str.contains('hour'))]\n",
    "salary_data = salary_data[~(salary_data.salary.astype('str').str.contains('week'))]\n",
    "salary_data = salary_data[~(salary_data.salary.astype('str').str.contains('wk'))]\n",
    "salary_data = salary_data[~(salary_data.salary.astype('str').str.contains('month'))]"
   ]
  },
  {
   "cell_type": "code",
   "execution_count": 18,
   "metadata": {
    "collapsed": false
   },
   "outputs": [
    {
     "data": {
      "text/html": [
       "<div>\n",
       "<table border=\"1\" class=\"dataframe\">\n",
       "  <thead>\n",
       "    <tr style=\"text-align: right;\">\n",
       "      <th></th>\n",
       "      <th>city</th>\n",
       "      <th>company</th>\n",
       "      <th>job_title</th>\n",
       "      <th>salary</th>\n",
       "    </tr>\n",
       "  </thead>\n",
       "  <tbody>\n",
       "    <tr>\n",
       "      <th>9</th>\n",
       "      <td>Houston</td>\n",
       "      <td>Avispa Technology</td>\n",
       "      <td>Data Scientist 5796057</td>\n",
       "      <td>$80,000 - $120,000 a year</td>\n",
       "    </tr>\n",
       "    <tr>\n",
       "      <th>10</th>\n",
       "      <td>Houston</td>\n",
       "      <td>DISYS</td>\n",
       "      <td>Principal Data Scientist</td>\n",
       "      <td>$135,000 a year</td>\n",
       "    </tr>\n",
       "    <tr>\n",
       "      <th>50</th>\n",
       "      <td>Houston</td>\n",
       "      <td>Baylor College of Medicine</td>\n",
       "      <td>Senior Quality Assurance / Quality Control (Re...</td>\n",
       "      <td>$60,998 a year</td>\n",
       "    </tr>\n",
       "    <tr>\n",
       "      <th>52</th>\n",
       "      <td>Houston</td>\n",
       "      <td>Oscar Technology</td>\n",
       "      <td>Big Data Analytics Manager</td>\n",
       "      <td>$160,000 a year</td>\n",
       "    </tr>\n",
       "    <tr>\n",
       "      <th>65</th>\n",
       "      <td>Houston</td>\n",
       "      <td>Baylor College of Medicine</td>\n",
       "      <td>Bioinformatics Programmer II</td>\n",
       "      <td>$72,120 a year</td>\n",
       "    </tr>\n",
       "  </tbody>\n",
       "</table>\n",
       "</div>"
      ],
      "text/plain": [
       "       city                     company  \\\n",
       "9   Houston           Avispa Technology   \n",
       "10  Houston                       DISYS   \n",
       "50  Houston  Baylor College of Medicine   \n",
       "52  Houston            Oscar Technology   \n",
       "65  Houston  Baylor College of Medicine   \n",
       "\n",
       "                                            job_title  \\\n",
       "9                              Data Scientist 5796057   \n",
       "10                           Principal Data Scientist   \n",
       "50  Senior Quality Assurance / Quality Control (Re...   \n",
       "52                         Big Data Analytics Manager   \n",
       "65                       Bioinformatics Programmer II   \n",
       "\n",
       "                       salary  \n",
       "9   $80,000 - $120,000 a year  \n",
       "10            $135,000 a year  \n",
       "50             $60,998 a year  \n",
       "52            $160,000 a year  \n",
       "65             $72,120 a year  "
      ]
     },
     "execution_count": 18,
     "metadata": {},
     "output_type": "execute_result"
    }
   ],
   "source": [
    "salary_data.head()"
   ]
  },
  {
   "cell_type": "code",
   "execution_count": null,
   "metadata": {
    "collapsed": true,
    "focus": false,
    "id": "a0f701e0-80bd-40ba-9101-4535860c0968"
   },
   "outputs": [],
   "source": [
    "# a function for using regex to extract salary amount\n",
    "def string_to_float(phrase):\n",
    "    return re.findall('(\\d{0,3}\\,\\d{0,3})',phrase)"
   ]
  },
  {
   "cell_type": "code",
   "execution_count": null,
   "metadata": {
    "collapsed": true
   },
   "outputs": [],
   "source": [
    "# apply string_to_float to all salaries\n",
    "salary_data['salary']=salary_data['salary'].apply(string_to_float)\n",
    "# remove commas in salaries\n",
    "salary_data.salary=[[i.replace(',','') for i in y] for y in salary_data.salary]"
   ]
  },
  {
   "cell_type": "code",
   "execution_count": 22,
   "metadata": {
    "collapsed": false
   },
   "outputs": [
    {
     "data": {
      "text/html": [
       "<div>\n",
       "<table border=\"1\" class=\"dataframe\">\n",
       "  <thead>\n",
       "    <tr style=\"text-align: right;\">\n",
       "      <th></th>\n",
       "      <th>city</th>\n",
       "      <th>company</th>\n",
       "      <th>job_title</th>\n",
       "      <th>salary</th>\n",
       "    </tr>\n",
       "  </thead>\n",
       "  <tbody>\n",
       "    <tr>\n",
       "      <th>9</th>\n",
       "      <td>Houston</td>\n",
       "      <td>Avispa Technology</td>\n",
       "      <td>Data Scientist 5796057</td>\n",
       "      <td>[80000.0, 120000.0]</td>\n",
       "    </tr>\n",
       "    <tr>\n",
       "      <th>10</th>\n",
       "      <td>Houston</td>\n",
       "      <td>DISYS</td>\n",
       "      <td>Principal Data Scientist</td>\n",
       "      <td>[135000.0]</td>\n",
       "    </tr>\n",
       "    <tr>\n",
       "      <th>50</th>\n",
       "      <td>Houston</td>\n",
       "      <td>Baylor College of Medicine</td>\n",
       "      <td>Senior Quality Assurance / Quality Control (Re...</td>\n",
       "      <td>[60998.0]</td>\n",
       "    </tr>\n",
       "    <tr>\n",
       "      <th>52</th>\n",
       "      <td>Houston</td>\n",
       "      <td>Oscar Technology</td>\n",
       "      <td>Big Data Analytics Manager</td>\n",
       "      <td>[160000.0]</td>\n",
       "    </tr>\n",
       "    <tr>\n",
       "      <th>65</th>\n",
       "      <td>Houston</td>\n",
       "      <td>Baylor College of Medicine</td>\n",
       "      <td>Bioinformatics Programmer II</td>\n",
       "      <td>[72120.0]</td>\n",
       "    </tr>\n",
       "  </tbody>\n",
       "</table>\n",
       "</div>"
      ],
      "text/plain": [
       "       city                     company  \\\n",
       "9   Houston           Avispa Technology   \n",
       "10  Houston                       DISYS   \n",
       "50  Houston  Baylor College of Medicine   \n",
       "52  Houston            Oscar Technology   \n",
       "65  Houston  Baylor College of Medicine   \n",
       "\n",
       "                                            job_title               salary  \n",
       "9                              Data Scientist 5796057  [80000.0, 120000.0]  \n",
       "10                           Principal Data Scientist           [135000.0]  \n",
       "50  Senior Quality Assurance / Quality Control (Re...            [60998.0]  \n",
       "52                         Big Data Analytics Manager           [160000.0]  \n",
       "65                       Bioinformatics Programmer II            [72120.0]  "
      ]
     },
     "execution_count": 22,
     "metadata": {},
     "output_type": "execute_result"
    }
   ],
   "source": [
    "# convert the datatype of salary to float\n",
    "salary_data.salary=[[float(i) for i in y] for y in salary_data.salary]\n",
    "salary_data.head()"
   ]
  },
  {
   "cell_type": "code",
   "execution_count": null,
   "metadata": {
    "collapsed": true
   },
   "outputs": [],
   "source": [
    "# if there are 2 salaries (range), average them\n",
    "salary_data.salary=[np.average(y) for y in salary_data.salary]\n",
    "salary_data.head()"
   ]
  },
  {
   "cell_type": "code",
   "execution_count": 25,
   "metadata": {
    "collapsed": false,
    "focus": false,
    "id": "783fd153-28ac-47ab-bfca-27e7c1de95b4"
   },
   "outputs": [],
   "source": [
    "# save salary data to csv\n",
    "salary_data.to_csv('indeed-scraped-job-postings.csv', index=False, encoding='utf8')"
   ]
  },
  {
   "cell_type": "markdown",
   "metadata": {
    "focus": false,
    "id": "04563b69-f7b6-466f-9d65-fc62c9ddee6a"
   },
   "source": [
    "### Modeling"
   ]
  },
  {
   "cell_type": "code",
   "execution_count": 8,
   "metadata": {
    "collapsed": false,
    "focus": false,
    "id": "588f9845-6143-4bcc-bfd1-85d45b79303d"
   },
   "outputs": [
    {
     "data": {
      "text/html": [
       "<div>\n",
       "<table border=\"1\" class=\"dataframe\">\n",
       "  <thead>\n",
       "    <tr style=\"text-align: right;\">\n",
       "      <th></th>\n",
       "      <th>city</th>\n",
       "      <th>company</th>\n",
       "      <th>job_title</th>\n",
       "      <th>salary</th>\n",
       "    </tr>\n",
       "  </thead>\n",
       "  <tbody>\n",
       "    <tr>\n",
       "      <th>0</th>\n",
       "      <td>Houston</td>\n",
       "      <td>Avispa Technology</td>\n",
       "      <td>Data Scientist 5796057</td>\n",
       "      <td>100000.0</td>\n",
       "    </tr>\n",
       "    <tr>\n",
       "      <th>1</th>\n",
       "      <td>Houston</td>\n",
       "      <td>DISYS</td>\n",
       "      <td>Principal Data Scientist</td>\n",
       "      <td>135000.0</td>\n",
       "    </tr>\n",
       "  </tbody>\n",
       "</table>\n",
       "</div>"
      ],
      "text/plain": [
       "      city            company                 job_title    salary\n",
       "0  Houston  Avispa Technology    Data Scientist 5796057  100000.0\n",
       "1  Houston              DISYS  Principal Data Scientist  135000.0"
      ]
     },
     "execution_count": 8,
     "metadata": {},
     "output_type": "execute_result"
    }
   ],
   "source": [
    "## load scraped salaries\n",
    "df=pd.read_csv('dataset/indeed-scraped-job-postings.csv')\n",
    "df.head(2)"
   ]
  },
  {
   "cell_type": "code",
   "execution_count": 9,
   "metadata": {
    "collapsed": false
   },
   "outputs": [
    {
     "data": {
      "text/plain": [
       "array(['Houston', 'Phoenix', 'Chicago', 'SF', 'NY', 'Dallas',\n",
       "       'Philadelphia', 'Denver', 'LA', 'Pittsburgh', 'Miami', 'Atlanta',\n",
       "       'Seattle', 'Austin', 'Portland', 'DC'], dtype=object)"
      ]
     },
     "execution_count": 9,
     "metadata": {},
     "output_type": "execute_result"
    }
   ],
   "source": [
    "# rename cities with long name for simplicity\n",
    "def simple_city(x):\n",
    "    if x=='Washington%2C+DC':\n",
    "        return 'DC'\n",
    "    elif x=='San+Francisco':\n",
    "        return 'SF'\n",
    "    elif x=='New+York':\n",
    "        return 'NY'\n",
    "    elif x=='Los+Angeles':\n",
    "        return 'LA'\n",
    "    else:\n",
    "        return x\n",
    "df.city=df.city.apply(simple_city)\n",
    "df.city.unique()"
   ]
  },
  {
   "cell_type": "code",
   "execution_count": 54,
   "metadata": {
    "collapsed": false
   },
   "outputs": [
    {
     "data": {
      "text/plain": [
       "<matplotlib.axes._subplots.AxesSubplot at 0xd61b080>"
      ]
     },
     "execution_count": 54,
     "metadata": {},
     "output_type": "execute_result"
    },
    {
     "data": {
      "image/png": "[encoded data removed]",
      "text/plain": [
       "<matplotlib.figure.Figure at 0xd16a710>"
      ]
     },
     "metadata": {},
     "output_type": "display_data"
    }
   ],
   "source": [
    "#grouping salary by city to find average salary of each city\n",
    "barcity=df.groupby(['city'])['salary'].mean()\n",
    "barcity.sort(ascending=False)\n",
    "#graph of average salary in each city\n",
    "sns.set_style(\"whitegrid\")\n",
    "plt.rcParams['figure.figsize']=(13,6)\n",
    "sns.barplot(x=barcity.index, y=barcity.values)"
   ]
  },
  {
   "cell_type": "code",
   "execution_count": 10,
   "metadata": {
    "collapsed": false,
    "focus": false,
    "id": "c20d2498-151c-44c3-a453-3a333c79a0ac"
   },
   "outputs": [
    {
     "data": {
      "text/html": [
       "<div>\n",
       "<table border=\"1\" class=\"dataframe\">\n",
       "  <thead>\n",
       "    <tr style=\"text-align: right;\">\n",
       "      <th></th>\n",
       "      <th>city</th>\n",
       "      <th>company</th>\n",
       "      <th>job_title</th>\n",
       "      <th>salary</th>\n",
       "      <th>salary_bin</th>\n",
       "    </tr>\n",
       "  </thead>\n",
       "  <tbody>\n",
       "    <tr>\n",
       "      <th>0</th>\n",
       "      <td>Houston</td>\n",
       "      <td>Avispa Technology</td>\n",
       "      <td>Data Scientist 5796057</td>\n",
       "      <td>100000.0</td>\n",
       "      <td>1</td>\n",
       "    </tr>\n",
       "    <tr>\n",
       "      <th>1</th>\n",
       "      <td>Houston</td>\n",
       "      <td>DISYS</td>\n",
       "      <td>Principal Data Scientist</td>\n",
       "      <td>135000.0</td>\n",
       "      <td>1</td>\n",
       "    </tr>\n",
       "  </tbody>\n",
       "</table>\n",
       "</div>"
      ],
      "text/plain": [
       "      city            company                 job_title    salary  salary_bin\n",
       "0  Houston  Avispa Technology    Data Scientist 5796057  100000.0           1\n",
       "1  Houston              DISYS  Principal Data Scientist  135000.0           1"
      ]
     },
     "execution_count": 10,
     "metadata": {},
     "output_type": "execute_result"
    }
   ],
   "source": [
    "# create a binary value based on whether salary is above or below mean\n",
    "def sal_bin(x):\n",
    "    if x > df.salary.mean():\n",
    "        return 1\n",
    "    else:\n",
    "        return 0\n",
    "df['salary_bin']=df['salary'].apply(sal_bin)\n",
    "df.head(2)"
   ]
  },
  {
   "cell_type": "code",
   "execution_count": 11,
   "metadata": {
    "collapsed": false,
    "focus": false,
    "id": "87a17d3d-b7f4-4747-9f75-f9af1d18a174"
   },
   "outputs": [
    {
     "name": "stdout",
     "output_type": "stream",
     "text": [
      "0.43137254902\n"
     ]
    }
   ],
   "source": [
    "# baseline accuracy using the average value of all salary binary\n",
    "print df.salary_bin.mean()"
   ]
  },
  {
   "cell_type": "markdown",
   "metadata": {
    "focus": false,
    "id": "4fb29de2-5b98-474c-a4ad-5170b72b9aea"
   },
   "source": [
    "### Building a Random Forest model to predict high/low salary"
   ]
  },
  {
   "cell_type": "code",
   "execution_count": 12,
   "metadata": {
    "collapsed": false
   },
   "outputs": [
    {
     "data": {
      "text/html": [
       "<div>\n",
       "<table border=\"1\" class=\"dataframe\">\n",
       "  <thead>\n",
       "    <tr style=\"text-align: right;\">\n",
       "      <th></th>\n",
       "      <th>city</th>\n",
       "      <th>company</th>\n",
       "      <th>job_title</th>\n",
       "      <th>salary</th>\n",
       "      <th>salary_bin</th>\n",
       "      <th>city__Austin</th>\n",
       "      <th>city__Chicago</th>\n",
       "      <th>city__DC</th>\n",
       "      <th>city__Dallas</th>\n",
       "      <th>city__Denver</th>\n",
       "      <th>city__Houston</th>\n",
       "      <th>city__LA</th>\n",
       "      <th>city__Miami</th>\n",
       "      <th>city__NY</th>\n",
       "      <th>city__Philadelphia</th>\n",
       "      <th>city__Phoenix</th>\n",
       "      <th>city__Pittsburgh</th>\n",
       "      <th>city__Portland</th>\n",
       "      <th>city__SF</th>\n",
       "      <th>city__Seattle</th>\n",
       "    </tr>\n",
       "  </thead>\n",
       "  <tbody>\n",
       "    <tr>\n",
       "      <th>0</th>\n",
       "      <td>Houston</td>\n",
       "      <td>Avispa Technology</td>\n",
       "      <td>Data Scientist 5796057</td>\n",
       "      <td>100000.0</td>\n",
       "      <td>1</td>\n",
       "      <td>0.0</td>\n",
       "      <td>0.0</td>\n",
       "      <td>0.0</td>\n",
       "      <td>0.0</td>\n",
       "      <td>0.0</td>\n",
       "      <td>1.0</td>\n",
       "      <td>0.0</td>\n",
       "      <td>0.0</td>\n",
       "      <td>0.0</td>\n",
       "      <td>0.0</td>\n",
       "      <td>0.0</td>\n",
       "      <td>0.0</td>\n",
       "      <td>0.0</td>\n",
       "      <td>0.0</td>\n",
       "      <td>0.0</td>\n",
       "    </tr>\n",
       "    <tr>\n",
       "      <th>1</th>\n",
       "      <td>Houston</td>\n",
       "      <td>DISYS</td>\n",
       "      <td>Principal Data Scientist</td>\n",
       "      <td>135000.0</td>\n",
       "      <td>1</td>\n",
       "      <td>0.0</td>\n",
       "      <td>0.0</td>\n",
       "      <td>0.0</td>\n",
       "      <td>0.0</td>\n",
       "      <td>0.0</td>\n",
       "      <td>1.0</td>\n",
       "      <td>0.0</td>\n",
       "      <td>0.0</td>\n",
       "      <td>0.0</td>\n",
       "      <td>0.0</td>\n",
       "      <td>0.0</td>\n",
       "      <td>0.0</td>\n",
       "      <td>0.0</td>\n",
       "      <td>0.0</td>\n",
       "      <td>0.0</td>\n",
       "    </tr>\n",
       "  </tbody>\n",
       "</table>\n",
       "</div>"
      ],
      "text/plain": [
       "      city            company                 job_title    salary  salary_bin  \\\n",
       "0  Houston  Avispa Technology    Data Scientist 5796057  100000.0           1   \n",
       "1  Houston              DISYS  Principal Data Scientist  135000.0           1   \n",
       "\n",
       "   city__Austin  city__Chicago  city__DC  city__Dallas  city__Denver  \\\n",
       "0           0.0            0.0       0.0           0.0           0.0   \n",
       "1           0.0            0.0       0.0           0.0           0.0   \n",
       "\n",
       "   city__Houston  city__LA  city__Miami  city__NY  city__Philadelphia  \\\n",
       "0            1.0       0.0          0.0       0.0                 0.0   \n",
       "1            1.0       0.0          0.0       0.0                 0.0   \n",
       "\n",
       "   city__Phoenix  city__Pittsburgh  city__Portland  city__SF  city__Seattle  \n",
       "0            0.0               0.0             0.0       0.0            0.0  \n",
       "1            0.0               0.0             0.0       0.0            0.0  "
      ]
     },
     "execution_count": 12,
     "metadata": {},
     "output_type": "execute_result"
    }
   ],
   "source": [
    "# make dummy varibles for cities because cities are categorical values\n",
    "df=pd.concat([df, pd.get_dummies(df['city'], prefix='city_', drop_first=True)], axis=1)\n",
    "df.head(2)"
   ]
  },
  {
   "cell_type": "markdown",
   "metadata": {},
   "source": [
    "#### First look at how location affects data science salary."
   ]
  },
  {
   "cell_type": "code",
   "execution_count": 21,
   "metadata": {
    "collapsed": false
   },
   "outputs": [
    {
     "name": "stdout",
     "output_type": "stream",
     "text": [
      "Accuracy: 0.56 (+/- 0.08)\n"
     ]
    }
   ],
   "source": [
    "# predict and print accuracy using random forest\n",
    "X = df.loc[:,'city__Austin':'city__Seattle'].copy()\n",
    "y = df['salary_bin']\n",
    "cv = KFold(len(y), n_folds=3, shuffle=True, random_state=0)\n",
    "rf = RandomForestClassifier()\n",
    "scores = cross_val_score(rf, X, y, cv=cv)\n",
    "print \"Accuracy: %0.2f (+/- %0.2f)\" % (scores.mean(), scores.std() * 2)"
   ]
  },
  {
   "cell_type": "code",
   "execution_count": 18,
   "metadata": {
    "collapsed": false
   },
   "outputs": [
    {
     "name": "stdout",
     "output_type": "stream",
     "text": [
      "{'bootstrap': True, 'min_samples_leaf': 3, 'min_samples_split': 3, 'criterion': 'gini', 'max_features': 10, 'max_depth': 3}\n"
     ]
    }
   ],
   "source": [
    "# run grid search to optimize random forest\n",
    "search_parameters = {\"max_depth\": [3, None],\n",
    "              \"max_features\": [1, 3, 10],\n",
    "              \"min_samples_split\": [1, 3, 10],\n",
    "              \"min_samples_leaf\": [1, 3, 10],\n",
    "              \"bootstrap\": [True, False],\n",
    "              \"criterion\": [\"gini\", \"entropy\"]}\n",
    "X=df.loc[:,'city__Austin':'city__Seattle'].copy()\n",
    "y = df['salary_bin']\n",
    "grid = GridSearchCV(RandomForestClassifier(), search_parameters, cv=3)\n",
    "for fold in cv:\n",
    "    X_train = X.iloc[fold[0]]\n",
    "    X_test  = X.iloc[fold[1]]\n",
    "    y_train = y.iloc[fold[0]]\n",
    "    y_test  = y.iloc[fold[1]]\n",
    "grid.fit(X_train, y_train)\n",
    "print grid.best_params_"
   ]
  },
  {
   "cell_type": "code",
   "execution_count": 19,
   "metadata": {
    "collapsed": false
   },
   "outputs": [
    {
     "data": {
      "text/html": [
       "<div>\n",
       "<table border=\"1\" class=\"dataframe\">\n",
       "  <thead>\n",
       "    <tr style=\"text-align: right;\">\n",
       "      <th></th>\n",
       "      <th>0 PREDICTED</th>\n",
       "      <th>1 PREDICTED</th>\n",
       "    </tr>\n",
       "  </thead>\n",
       "  <tbody>\n",
       "    <tr>\n",
       "      <th>0 TRUE</th>\n",
       "      <td>16</td>\n",
       "      <td>1</td>\n",
       "    </tr>\n",
       "    <tr>\n",
       "      <th>1 TRUE</th>\n",
       "      <td>13</td>\n",
       "      <td>4</td>\n",
       "    </tr>\n",
       "  </tbody>\n",
       "</table>\n",
       "</div>"
      ],
      "text/plain": [
       "        0 PREDICTED  1 PREDICTED\n",
       "0 TRUE           16            1\n",
       "1 TRUE           13            4"
      ]
     },
     "execution_count": 19,
     "metadata": {},
     "output_type": "execute_result"
    }
   ],
   "source": [
    "# make a confusion matrix\n",
    "y_pred = grid.predict(X_test)\n",
    "cm = confusion_matrix(y_test, y_pred)\n",
    "cm_df = pd.DataFrame(cm, columns=(['0 PREDICTED','1 PREDICTED']), index=(['0 TRUE','1 TRUE']))\n",
    "cm_df"
   ]
  },
  {
   "cell_type": "code",
   "execution_count": 20,
   "metadata": {
    "collapsed": false,
    "focus": false,
    "id": "ddbc6159-6854-4ca7-857f-bfecdaf6d9c2"
   },
   "outputs": [
    {
     "data": {
      "text/html": [
       "<div>\n",
       "<table border=\"1\" class=\"dataframe\">\n",
       "  <thead>\n",
       "    <tr style=\"text-align: right;\">\n",
       "      <th></th>\n",
       "      <th>city</th>\n",
       "      <th>company</th>\n",
       "      <th>job_title</th>\n",
       "      <th>salary</th>\n",
       "      <th>salary_bin</th>\n",
       "      <th>city__Austin</th>\n",
       "      <th>city__Chicago</th>\n",
       "      <th>city__DC</th>\n",
       "      <th>city__Dallas</th>\n",
       "      <th>city__Denver</th>\n",
       "      <th>...</th>\n",
       "      <th>city__Portland</th>\n",
       "      <th>city__SF</th>\n",
       "      <th>city__Seattle</th>\n",
       "      <th>contains_senior</th>\n",
       "      <th>contains_junior</th>\n",
       "      <th>contains_manager</th>\n",
       "      <th>contains_bd</th>\n",
       "      <th>contains_scientist</th>\n",
       "      <th>contains_analyst</th>\n",
       "      <th>contains_engineer</th>\n",
       "    </tr>\n",
       "  </thead>\n",
       "  <tbody>\n",
       "    <tr>\n",
       "      <th>0</th>\n",
       "      <td>Houston</td>\n",
       "      <td>Avispa Technology</td>\n",
       "      <td>data scientist 5796057</td>\n",
       "      <td>100000.0</td>\n",
       "      <td>1</td>\n",
       "      <td>0.0</td>\n",
       "      <td>0.0</td>\n",
       "      <td>0.0</td>\n",
       "      <td>0.0</td>\n",
       "      <td>0.0</td>\n",
       "      <td>...</td>\n",
       "      <td>0.0</td>\n",
       "      <td>0.0</td>\n",
       "      <td>0.0</td>\n",
       "      <td>False</td>\n",
       "      <td>False</td>\n",
       "      <td>False</td>\n",
       "      <td>False</td>\n",
       "      <td>True</td>\n",
       "      <td>False</td>\n",
       "      <td>False</td>\n",
       "    </tr>\n",
       "    <tr>\n",
       "      <th>1</th>\n",
       "      <td>Houston</td>\n",
       "      <td>DISYS</td>\n",
       "      <td>principal data scientist</td>\n",
       "      <td>135000.0</td>\n",
       "      <td>1</td>\n",
       "      <td>0.0</td>\n",
       "      <td>0.0</td>\n",
       "      <td>0.0</td>\n",
       "      <td>0.0</td>\n",
       "      <td>0.0</td>\n",
       "      <td>...</td>\n",
       "      <td>0.0</td>\n",
       "      <td>0.0</td>\n",
       "      <td>0.0</td>\n",
       "      <td>False</td>\n",
       "      <td>False</td>\n",
       "      <td>False</td>\n",
       "      <td>False</td>\n",
       "      <td>True</td>\n",
       "      <td>False</td>\n",
       "      <td>False</td>\n",
       "    </tr>\n",
       "  </tbody>\n",
       "</table>\n",
       "<p>2 rows × 27 columns</p>\n",
       "</div>"
      ],
      "text/plain": [
       "      city            company                 job_title    salary  salary_bin  \\\n",
       "0  Houston  Avispa Technology    data scientist 5796057  100000.0           1   \n",
       "1  Houston              DISYS  principal data scientist  135000.0           1   \n",
       "\n",
       "   city__Austin  city__Chicago  city__DC  city__Dallas  city__Denver  \\\n",
       "0           0.0            0.0       0.0           0.0           0.0   \n",
       "1           0.0            0.0       0.0           0.0           0.0   \n",
       "\n",
       "         ...          city__Portland  city__SF  city__Seattle  \\\n",
       "0        ...                     0.0       0.0            0.0   \n",
       "1        ...                     0.0       0.0            0.0   \n",
       "\n",
       "   contains_senior  contains_junior  contains_manager  contains_bd  \\\n",
       "0            False            False             False        False   \n",
       "1            False            False             False        False   \n",
       "\n",
       "   contains_scientist  contains_analyst  contains_engineer  \n",
       "0                True             False              False  \n",
       "1                True             False              False  \n",
       "\n",
       "[2 rows x 27 columns]"
      ]
     },
     "execution_count": 20,
     "metadata": {},
     "output_type": "execute_result"
    }
   ],
   "source": [
    "# lowercase all job titles to make them easy to analyze\n",
    "# identify job titles keywords scuh as 'senior', 'junior', 'big data', scientist', 'engineer', etc.\n",
    "def lower(x):\n",
    "    return x.lower()\n",
    "df['job_title']=df['job_title'].apply(lower)\n",
    "df['contains_senior'] = df['job_title'].str.contains('senior','sr')\n",
    "df['contains_junior'] = df['job_title'].str.contains('junior','jr')\n",
    "df['contains_manager'] = df['job_title'].str.contains('manager')\n",
    "df['contains_bd'] = df['job_title'].str.contains('big data')\n",
    "df['contains_scientist'] = df['job_title'].str.contains('scientist')\n",
    "df['contains_analyst'] = df['job_title'].str.contains('analyst')\n",
    "df['contains_engineer'] = df['job_title'].str.contains('engineer')\n",
    "df.head(2)"
   ]
  },
  {
   "cell_type": "markdown",
   "metadata": {},
   "source": [
    "#### Now consider keywords in job title and location to determine whther salary is below or above average."
   ]
  },
  {
   "cell_type": "code",
   "execution_count": 22,
   "metadata": {
    "collapsed": false
   },
   "outputs": [
    {
     "name": "stdout",
     "output_type": "stream",
     "text": [
      "Accuracy: 0.75 (+/- 0.08)\n"
     ]
    }
   ],
   "source": [
    "X = df.loc[:,'city__Austin':].copy()\n",
    "y = df['salary_bin']\n",
    "# create 2 folds and run a random forest classifier\n",
    "cv = KFold(len(y), n_folds=2,shuffle=True)\n",
    "rf = RandomForestClassifier()\n",
    "scores = cross_val_score(rf, X, y, cv=cv)\n",
    "print \"Accuracy: %0.2f (+/- %0.2f)\" % (scores.mean(), scores.std() * 2)"
   ]
  },
  {
   "cell_type": "code",
   "execution_count": 23,
   "metadata": {
    "collapsed": false
   },
   "outputs": [
    {
     "name": "stdout",
     "output_type": "stream",
     "text": [
      "{'bootstrap': True, 'min_samples_leaf': 1, 'min_samples_split': 10, 'criterion': 'gini', 'max_features': 1, 'max_depth': 3}\n"
     ]
    }
   ],
   "source": [
    "# run gridsearch to optimize above random forest classifier\n",
    "search_parameters = {\"max_depth\": [3, None],\n",
    "              \"max_features\": [1, 3, 10],\n",
    "              \"min_samples_split\": [1, 3, 10],\n",
    "              \"min_samples_leaf\": [1, 3, 10],\n",
    "              \"bootstrap\": [True, False],\n",
    "              \"criterion\": [\"gini\", \"entropy\"]}\n",
    "X = df.loc[:,'city__Austin':].copy()\n",
    "y = df['salary_bin']\n",
    "for fold in cv:\n",
    "    X_train = X.iloc[fold[0]]\n",
    "    X_test  = X.iloc[fold[1]]\n",
    "    y_train = y.iloc[fold[0]]\n",
    "    y_test  = y.iloc[fold[1]]\n",
    "grid = GridSearchCV(RandomForestClassifier(), search_parameters, cv=2)\n",
    "grid.fit(X_train, y_train)\n",
    "print grid.best_params_"
   ]
  },
  {
   "cell_type": "code",
   "execution_count": 24,
   "metadata": {
    "collapsed": false
   },
   "outputs": [
    {
     "name": "stdout",
     "output_type": "stream",
     "text": [
      "             precision    recall  f1-score   support\n",
      "\n",
      "          0       0.45      1.00      0.62        23\n",
      "          1       0.00      0.00      0.00        28\n",
      "\n",
      "avg / total       0.20      0.45      0.28        51\n",
      "\n"
     ]
    },
    {
     "name": "stderr",
     "output_type": "stream",
     "text": [
      "C:\\Users\\Ouisu\\Anaconda2\\lib\\site-packages\\sklearn\\metrics\\classification.py:1074: UndefinedMetricWarning: Precision and F-score are ill-defined and being set to 0.0 in labels with no predicted samples.\n",
      "  'precision', 'predicted', average, warn_for)\n"
     ]
    }
   ],
   "source": [
    "#classification report\n",
    "y_pred = grid.predict(X_test)\n",
    "print classification_report(y_test, y_pred)"
   ]
  },
  {
   "cell_type": "code",
   "execution_count": 26,
   "metadata": {
    "collapsed": false
   },
   "outputs": [
    {
     "data": {
      "text/html": [
       "<div>\n",
       "<table border=\"1\" class=\"dataframe\">\n",
       "  <thead>\n",
       "    <tr style=\"text-align: right;\">\n",
       "      <th></th>\n",
       "      <th>0 PREDICTED</th>\n",
       "      <th>1 PREDICTED</th>\n",
       "    </tr>\n",
       "  </thead>\n",
       "  <tbody>\n",
       "    <tr>\n",
       "      <th>0 TRUE</th>\n",
       "      <td>23</td>\n",
       "      <td>0</td>\n",
       "    </tr>\n",
       "    <tr>\n",
       "      <th>1 TRUE</th>\n",
       "      <td>28</td>\n",
       "      <td>0</td>\n",
       "    </tr>\n",
       "  </tbody>\n",
       "</table>\n",
       "</div>"
      ],
      "text/plain": [
       "        0 PREDICTED  1 PREDICTED\n",
       "0 TRUE           23            0\n",
       "1 TRUE           28            0"
      ]
     },
     "execution_count": 26,
     "metadata": {},
     "output_type": "execute_result"
    }
   ],
   "source": [
    "#make confusion matrix\n",
    "cm = confusion_matrix(y_test, y_pred)\n",
    "cm_df = pd.DataFrame(cm, columns=(['0 PREDICTED','1 PREDICTED']), index=(['0 TRUE','1 TRUE']))\n",
    "cm_df"
   ]
  },
  {
   "cell_type": "markdown",
   "metadata": {},
   "source": [
    "#### SVM"
   ]
  },
  {
   "cell_type": "code",
   "execution_count": 27,
   "metadata": {
    "collapsed": false
   },
   "outputs": [
    {
     "name": "stdout",
     "output_type": "stream",
     "text": [
      "Accuracy: 0.72 (+/- 0.06)\n"
     ]
    }
   ],
   "source": [
    "#using svm to predict salary binary\n",
    "X=df.loc[:,'city__Austin':].copy()\n",
    "y = df['salary_bin']\n",
    "clf = svm.SVC(kernel='linear', C=1)\n",
    "scores = cross_val_score(rf, X, y, cv=cv)\n",
    "print \"Accuracy: %0.2f (+/- %0.2f)\" % (scores.mean(), scores.std() * 2)"
   ]
  },
  {
   "cell_type": "code",
   "execution_count": 28,
   "metadata": {
    "collapsed": false
   },
   "outputs": [
    {
     "name": "stdout",
     "output_type": "stream",
     "text": [
      "{'kernel': 'rbf', 'C': 1}\n"
     ]
    }
   ],
   "source": [
    "#gridsearch on svm\n",
    "search_parameters = {'kernel':('linear', 'rbf'), 'C':[1, 10]}\n",
    "X=df.loc[:,'city__Austin':].copy()\n",
    "y = df['salary_bin']\n",
    "for fold in cv:\n",
    "    X_train = X.iloc[fold[0]]\n",
    "    X_test  = X.iloc[fold[1]]\n",
    "    y_train = y.iloc[fold[0]]\n",
    "    y_test  = y.iloc[fold[1]]\n",
    "grid = GridSearchCV(svm.SVC(), search_parameters, cv=2)\n",
    "grid.fit(X_train, y_train)\n",
    "print grid.best_params_"
   ]
  },
  {
   "cell_type": "code",
   "execution_count": 29,
   "metadata": {
    "collapsed": false
   },
   "outputs": [
    {
     "name": "stdout",
     "output_type": "stream",
     "text": [
      "             precision    recall  f1-score   support\n",
      "\n",
      "          0       0.45      1.00      0.62        23\n",
      "          1       0.00      0.00      0.00        28\n",
      "\n",
      "avg / total       0.20      0.45      0.28        51\n",
      "\n"
     ]
    }
   ],
   "source": [
    "#classification report\n",
    "y_pred = grid.predict(X_test)\n",
    "print classification_report(y_test, y_pred)"
   ]
  },
  {
   "cell_type": "code",
   "execution_count": 30,
   "metadata": {
    "collapsed": false
   },
   "outputs": [
    {
     "data": {
      "text/html": [
       "<div>\n",
       "<table border=\"1\" class=\"dataframe\">\n",
       "  <thead>\n",
       "    <tr style=\"text-align: right;\">\n",
       "      <th></th>\n",
       "      <th>0 PREDICTED</th>\n",
       "      <th>1 PREDICTED</th>\n",
       "    </tr>\n",
       "  </thead>\n",
       "  <tbody>\n",
       "    <tr>\n",
       "      <th>0 TRUE</th>\n",
       "      <td>23</td>\n",
       "      <td>0</td>\n",
       "    </tr>\n",
       "    <tr>\n",
       "      <th>1 TRUE</th>\n",
       "      <td>28</td>\n",
       "      <td>0</td>\n",
       "    </tr>\n",
       "  </tbody>\n",
       "</table>\n",
       "</div>"
      ],
      "text/plain": [
       "        0 PREDICTED  1 PREDICTED\n",
       "0 TRUE           23            0\n",
       "1 TRUE           28            0"
      ]
     },
     "execution_count": 30,
     "metadata": {},
     "output_type": "execute_result"
    }
   ],
   "source": [
    "#make confusion matrix\n",
    "cm = confusion_matrix(y_test, y_pred)\n",
    "cm_df = pd.DataFrame(cm, columns=(['0 PREDICTED','1 PREDICTED']), index=(['0 TRUE','1 TRUE']))\n",
    "cm_df"
   ]
  },
  {
   "cell_type": "markdown",
   "metadata": {},
   "source": [
    "## KNN"
   ]
  },
  {
   "cell_type": "code",
   "execution_count": 31,
   "metadata": {
    "collapsed": false
   },
   "outputs": [
    {
     "name": "stdout",
     "output_type": "stream",
     "text": [
      "Accuracy: 0.69 (+/- 0.12)\n"
     ]
    }
   ],
   "source": [
    "X=df.loc[:,'city__Austin':].copy()\n",
    "y = df['salary_bin']\n",
    "knn = KNeighborsClassifier()\n",
    "scores = cross_val_score(knn, X, y, cv=cv)\n",
    "print \"Accuracy: %0.2f (+/- %0.2f)\" % (scores.mean(), scores.std() * 2)"
   ]
  },
  {
   "cell_type": "code",
   "execution_count": 32,
   "metadata": {
    "collapsed": false
   },
   "outputs": [
    {
     "name": "stdout",
     "output_type": "stream",
     "text": [
      "{'n_neighbors': 2, 'weights': 'uniform'}\n"
     ]
    }
   ],
   "source": [
    "#gridsearch on knn\n",
    "search_parameters = {'weights': ['uniform', 'distance'], 'n_neighbors': [1,2,3,4,5,6,7,8,9, 10]}\n",
    "X=df.loc[:,'city__Austin':].copy()\n",
    "y = df['salary_bin']\n",
    "for fold in cv:\n",
    "    X_train = X.iloc[fold[0]]\n",
    "    X_test  = X.iloc[fold[1]]\n",
    "    y_train = y.iloc[fold[0]]\n",
    "    y_test  = y.iloc[fold[1]]\n",
    "grid = GridSearchCV(KNeighborsClassifier(), search_parameters, cv=2)\n",
    "grid.fit(X_train, y_train)\n",
    "print grid.best_params_"
   ]
  },
  {
   "cell_type": "code",
   "execution_count": 34,
   "metadata": {
    "collapsed": false
   },
   "outputs": [
    {
     "name": "stdout",
     "output_type": "stream",
     "text": [
      "             precision    recall  f1-score   support\n",
      "\n",
      "          0       0.49      1.00      0.66        23\n",
      "          1       1.00      0.14      0.25        28\n",
      "\n",
      "avg / total       0.77      0.53      0.43        51\n",
      "\n"
     ]
    }
   ],
   "source": [
    "#knn classification report\n",
    "y_pred = grid.predict(X_test)\n",
    "print classification_report(y_test, y_pred)"
   ]
  },
  {
   "cell_type": "code",
   "execution_count": 35,
   "metadata": {
    "collapsed": false
   },
   "outputs": [
    {
     "data": {
      "text/html": [
       "<div>\n",
       "<table border=\"1\" class=\"dataframe\">\n",
       "  <thead>\n",
       "    <tr style=\"text-align: right;\">\n",
       "      <th></th>\n",
       "      <th>0 PREDICTED</th>\n",
       "      <th>1 PREDICTED</th>\n",
       "    </tr>\n",
       "  </thead>\n",
       "  <tbody>\n",
       "    <tr>\n",
       "      <th>0 TRUE</th>\n",
       "      <td>23</td>\n",
       "      <td>0</td>\n",
       "    </tr>\n",
       "    <tr>\n",
       "      <th>1 TRUE</th>\n",
       "      <td>24</td>\n",
       "      <td>4</td>\n",
       "    </tr>\n",
       "  </tbody>\n",
       "</table>\n",
       "</div>"
      ],
      "text/plain": [
       "        0 PREDICTED  1 PREDICTED\n",
       "0 TRUE           23            0\n",
       "1 TRUE           24            4"
      ]
     },
     "execution_count": 35,
     "metadata": {},
     "output_type": "execute_result"
    }
   ],
   "source": [
    "#make confusion matrix\n",
    "cm = confusion_matrix(y_test, y_pred)\n",
    "cm_df = pd.DataFrame(cm, columns=(['0 PREDICTED','1 PREDICTED']), index=(['0 TRUE','1 TRUE']))\n",
    "cm_df"
   ]
  },
  {
   "cell_type": "markdown",
   "metadata": {},
   "source": [
    "## Logistic Regression"
   ]
  },
  {
   "cell_type": "code",
   "execution_count": 36,
   "metadata": {
    "collapsed": false
   },
   "outputs": [
    {
     "name": "stdout",
     "output_type": "stream",
     "text": [
      "Accuracy: 0.66 (+/- 0.14)\n"
     ]
    }
   ],
   "source": [
    "X=df.loc[:,'city__Austin':].copy()\n",
    "y = df['salary_bin']\n",
    "lm = LogisticRegression(penalty='l2', C=1)\n",
    "scores = cross_val_score(lm, X, y, cv=cv)\n",
    "print \"Accuracy: %0.2f (+/- %0.2f)\" % (scores.mean(), scores.std() * 2)"
   ]
  },
  {
   "cell_type": "code",
   "execution_count": 37,
   "metadata": {
    "collapsed": false
   },
   "outputs": [
    {
     "name": "stdout",
     "output_type": "stream",
     "text": [
      "{'penalty': 'l1', 'C': 0.001}\n"
     ]
    }
   ],
   "source": [
    "#gridsearch on logistic regression\n",
    "search_parameters = {'C': [0.001, 0.01, 0.1, 1, 10, 100, 1000], 'penalty': ['l1','l2']}\n",
    "X=df.loc[:,'city__Austin':].copy()\n",
    "y = df['salary_bin']\n",
    "for fold in cv:\n",
    "    X_train = X.iloc[fold[0]]\n",
    "    X_test  = X.iloc[fold[1]]\n",
    "    y_train = y.iloc[fold[0]]\n",
    "    y_test  = y.iloc[fold[1]]\n",
    "grid = GridSearchCV(LogisticRegression(), search_parameters, cv=2)\n",
    "grid.fit(X_train, y_train)\n",
    "print grid.best_params_"
   ]
  },
  {
   "cell_type": "code",
   "execution_count": 38,
   "metadata": {
    "collapsed": false
   },
   "outputs": [
    {
     "name": "stdout",
     "output_type": "stream",
     "text": [
      "             precision    recall  f1-score   support\n",
      "\n",
      "          0       0.45      1.00      0.62        23\n",
      "          1       0.00      0.00      0.00        28\n",
      "\n",
      "avg / total       0.20      0.45      0.28        51\n",
      "\n"
     ]
    }
   ],
   "source": [
    "y_pred = grid.predict(X_test)\n",
    "print classification_report(y_test, y_pred)"
   ]
  },
  {
   "cell_type": "code",
   "execution_count": 39,
   "metadata": {
    "collapsed": false
   },
   "outputs": [
    {
     "data": {
      "text/html": [
       "<div>\n",
       "<table border=\"1\" class=\"dataframe\">\n",
       "  <thead>\n",
       "    <tr style=\"text-align: right;\">\n",
       "      <th></th>\n",
       "      <th>0 PREDICTED</th>\n",
       "      <th>1 PREDICTED</th>\n",
       "    </tr>\n",
       "  </thead>\n",
       "  <tbody>\n",
       "    <tr>\n",
       "      <th>0 TRUE</th>\n",
       "      <td>23</td>\n",
       "      <td>0</td>\n",
       "    </tr>\n",
       "    <tr>\n",
       "      <th>1 TRUE</th>\n",
       "      <td>28</td>\n",
       "      <td>0</td>\n",
       "    </tr>\n",
       "  </tbody>\n",
       "</table>\n",
       "</div>"
      ],
      "text/plain": [
       "        0 PREDICTED  1 PREDICTED\n",
       "0 TRUE           23            0\n",
       "1 TRUE           28            0"
      ]
     },
     "execution_count": 39,
     "metadata": {},
     "output_type": "execute_result"
    }
   ],
   "source": [
    "#make confusion matrix\n",
    "cm = confusion_matrix(y_test, y_pred)\n",
    "cm_df = pd.DataFrame(cm, columns=(['0 PREDICTED','1 PREDICTED']), index=(['0 TRUE','1 TRUE']))\n",
    "cm_df"
   ]
  },
  {
   "cell_type": "markdown",
   "metadata": {},
   "source": [
    "#### Random Forest Regressor\n",
    "Instead of treating the problem as a classification problem, treat it as a regression problem using salary dollar amount."
   ]
  },
  {
   "cell_type": "code",
   "execution_count": 40,
   "metadata": {
    "collapsed": false,
    "focus": false,
    "id": "56cc8854-d722-411d-a6c7-e86310710f67"
   },
   "outputs": [
    {
     "name": "stdout",
     "output_type": "stream",
     "text": [
      "Mean squared error: 0.10 (+/- 0.08)\n"
     ]
    }
   ],
   "source": [
    "X=df.loc[:,'city__Austin':].copy()\n",
    "y = df['salary']\n",
    "rfr = RandomForestRegressor(random_state=0, n_estimators=100)\n",
    "scores = cross_val_score(rfr, X, y, cv=5)\n",
    "print \"Mean squared error: %0.2f (+/- %0.2f)\" % (scores.mean(), scores.std() * 2)"
   ]
  },
  {
   "cell_type": "code",
   "execution_count": 45,
   "metadata": {
    "collapsed": false
   },
   "outputs": [
    {
     "data": {
      "image/png": "[encoded data removed]",
      "text/plain": [
       "<matplotlib.figure.Figure at 0xca76588>"
      ]
     },
     "metadata": {},
     "output_type": "display_data"
    }
   ],
   "source": [
    "plt.style.use('fivethirtyeight')\n",
    "#predicted salary vs. actual salary\n",
    "def do_plot(model, m=None):\n",
    "    for fold in cv:\n",
    "        X_train = X.iloc[fold[0]]\n",
    "        X_test  = X.iloc[fold[1]]\n",
    "        y_train = y.iloc[fold[0]]\n",
    "        y_test  = y.iloc[fold[1]]\n",
    "        model.fit(X_train, y_train)\n",
    "        y_pred = model.predict(X_test)\n",
    "\n",
    "        plt.scatter(y_test, y_pred, s=100,alpha=.5)\n",
    "        plt.text(.1,.8, \"R2: \"+str(m), fontsize=20)\n",
    "        \n",
    "do_plot(rfr, scores.mean().round(2))"
   ]
  },
  {
   "cell_type": "code",
   "execution_count": null,
   "metadata": {
    "collapsed": true
   },
   "outputs": [],
   "source": []
  }
 ],
 "metadata": {
  "kernelspec": {
   "display_name": "Python 2",
   "language": "python",
   "name": "python2"
  },
  "language_info": {
   "codemirror_mode": {
    "name": "ipython",
    "version": 2
   },
   "file_extension": ".py",
   "mimetype": "text/x-python",
   "name": "python",
   "nbconvert_exporter": "python",
   "pygments_lexer": "ipython2",
   "version": "2.7.11"
  }
 },
 "nbformat": 4,
 "nbformat_minor": 0
}
